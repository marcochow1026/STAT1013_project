{
  "nbformat": 4,
  "nbformat_minor": 0,
  "metadata": {
    "colab": {
      "provenance": [],
      "authorship_tag": "ABX9TyMCA1N7oElWDXByyjTLzds9",
      "include_colab_link": true
    },
    "kernelspec": {
      "name": "python3",
      "display_name": "Python 3"
    },
    "language_info": {
      "name": "python"
    }
  },
  "cells": [
    {
      "cell_type": "markdown",
      "metadata": {
        "id": "view-in-github",
        "colab_type": "text"
      },
      "source": [
        "<a href=\"https://colab.research.google.com/github/marcochow1026/STAT1013_project/blob/main/STAT1013_project_part_1_Chow_Ho_Fung.ipynb\" target=\"_parent\"><img src=\"https://colab.research.google.com/assets/colab-badge.svg\" alt=\"Open In Colab\"/></a>"
      ]
    },
    {
      "cell_type": "markdown",
      "source": [
        "# CUHK-STAT1013: Practical Assignment Part 1: Sharing Your Idea and Data"
      ],
      "metadata": {
        "id": "kmU7xVlLbhJq"
      }
    },
    {
      "cell_type": "markdown",
      "source": [
        "NBA Team Point per game dataset background\n",
        "\n",
        "Description: dataset showing point per game of each team, from 2004-05 season to 2021-22 season\n",
        "\n",
        "Reference : https://www.basketball-reference.com/leagues/NBA_2022.html (This website shows the team statistics of each year)\n",
        "\n",
        "Sample size : 540\n"
      ],
      "metadata": {
        "id": "gtguBW3sUTMj"
      }
    },
    {
      "cell_type": "markdown",
      "source": [
        "Hypothesis\n",
        "\n",
        "(2 points) Tell us what your idea is and why you have chosen to pursue this idea.\n",
        "\n",
        "We are interested in \"Do NBA western conference team have a higher average point per game than that of eastern conference team?\"\n",
        "\n",
        "\n",
        "(2 points) What two groups you are comparing\n",
        "\n",
        "G!: mean of (average) point per game of western conference NBA team  G2: mean of (average) point per game of eastern conference NBA team\n",
        "\n",
        "\n",
        "What you will be measuring (i.e., what your response variable will be)\n",
        "\n",
        "PTS\n",
        "\n",
        "\n",
        "Is your response variable quantitative rather than categorical?\n",
        "\n",
        "Yes, it is a quantitative variable since point per game is a number.\n",
        "\n",
        "\n",
        "(2 points) Make a prediction about what kind of difference you expect to see between your samples and WHY. \n",
        "\n",
        "We'd expect that G1 > G2 since it is generally think that NBA team in western conference is stronger and have a better performance than eastern conference, probably because western conference have more NBA stars than eastern conference.\n",
        "\n",
        "\n",
        "(2 points) Talk about how you will gather your data \n",
        "\n",
        "From Basketball Reference website: https://www.basketball-reference.com/leagues/NBA_2022.html (This website shows the team statistics of each year)\n",
        "\n",
        "(2 points) If you had unlimited resources (time, money, staff, etc.) how would you collect your data described in Question 4?\n",
        "\n",
        "I will collect the point per game of the whole NBA history, from the first year of NBA from now. Since we cannot find the statistics from early NBA history and some statistics are missing. I will try my very best and check every single resources to investigate the missing data."
      ],
      "metadata": {
        "id": "Yvm74zmBUSK8"
      }
    },
    {
      "cell_type": "markdown",
      "source": [
        "## Prepare your dataset"
      ],
      "metadata": {
        "id": "-bw2vxpZbfU4"
      }
    },
    {
      "cell_type": "code",
      "source": [
        "## load dataset from github\n",
        "\n",
        "import pandas as pd\n",
        "\n",
        "df = pd.read_csv('https://raw.githubusercontent.com/marcochow1026/STAT1013_project/main/STAT1013_project.csv')\n",
        "df.head(5)"
      ],
      "metadata": {
        "colab": {
          "base_uri": "https://localhost:8080/",
          "height": 404
        },
        "id": "vXoLEqJ2cVuR",
        "outputId": "f7e7c2e6-2a43-4163-e5a3-40aaefe3efd6"
      },
      "execution_count": 4,
      "outputs": [
        {
          "output_type": "execute_result",
          "data": {
            "text/plain": [
              "    Rk               Team Conference   Season     G     MP    FG   FGA    FG%  \\\n",
              "0  1.0      Phoenix Suns*    Western  2004-05  82.0  241.2  40.9  85.6  0.477   \n",
              "1  2.0  Sacramento Kings*    Western  2004-05  82.0  242.1  39.1  85.1  0.459   \n",
              "2  3.0  Dallas Mavericks*    Western  2004-05  82.0  240.6  37.3  81.6  0.457   \n",
              "3  4.0        Miami Heat*    Eastern  2004-05  82.0  243.7  37.8  77.7  0.486   \n",
              "4  5.0    Boston Celtics*    Eastern  2004-05  82.0  242.4  37.1  79.4  0.468   \n",
              "\n",
              "    3P  ...  Unnamed: 39  Unnamed: 40  Unnamed: 41  Unnamed: 42  Unnamed: 43  \\\n",
              "0  9.7  ...          NaN          NaN          NaN          NaN          NaN   \n",
              "1  6.4  ...          NaN          NaN          NaN          NaN          NaN   \n",
              "2  5.6  ...          NaN          NaN          NaN          NaN          NaN   \n",
              "3  5.8  ...          NaN          NaN          NaN          NaN          NaN   \n",
              "4  5.3  ...          NaN          NaN          NaN          NaN          NaN   \n",
              "\n",
              "   Unnamed: 44  Unnamed: 45  Unnamed: 46  Unnamed: 47  Unnamed: 48  \n",
              "0          NaN          NaN          NaN          NaN          NaN  \n",
              "1          NaN          NaN          NaN          NaN          NaN  \n",
              "2          NaN          NaN          NaN          NaN          NaN  \n",
              "3          NaN          NaN          NaN          NaN          NaN  \n",
              "4          NaN          NaN          NaN          NaN          NaN  \n",
              "\n",
              "[5 rows x 49 columns]"
            ],
            "text/html": [
              "\n",
              "  <div id=\"df-8a2c3fc0-a74d-45f4-bafb-59bb656a8ca1\">\n",
              "    <div class=\"colab-df-container\">\n",
              "      <div>\n",
              "<style scoped>\n",
              "    .dataframe tbody tr th:only-of-type {\n",
              "        vertical-align: middle;\n",
              "    }\n",
              "\n",
              "    .dataframe tbody tr th {\n",
              "        vertical-align: top;\n",
              "    }\n",
              "\n",
              "    .dataframe thead th {\n",
              "        text-align: right;\n",
              "    }\n",
              "</style>\n",
              "<table border=\"1\" class=\"dataframe\">\n",
              "  <thead>\n",
              "    <tr style=\"text-align: right;\">\n",
              "      <th></th>\n",
              "      <th>Rk</th>\n",
              "      <th>Team</th>\n",
              "      <th>Conference</th>\n",
              "      <th>Season</th>\n",
              "      <th>G</th>\n",
              "      <th>MP</th>\n",
              "      <th>FG</th>\n",
              "      <th>FGA</th>\n",
              "      <th>FG%</th>\n",
              "      <th>3P</th>\n",
              "      <th>...</th>\n",
              "      <th>Unnamed: 39</th>\n",
              "      <th>Unnamed: 40</th>\n",
              "      <th>Unnamed: 41</th>\n",
              "      <th>Unnamed: 42</th>\n",
              "      <th>Unnamed: 43</th>\n",
              "      <th>Unnamed: 44</th>\n",
              "      <th>Unnamed: 45</th>\n",
              "      <th>Unnamed: 46</th>\n",
              "      <th>Unnamed: 47</th>\n",
              "      <th>Unnamed: 48</th>\n",
              "    </tr>\n",
              "  </thead>\n",
              "  <tbody>\n",
              "    <tr>\n",
              "      <th>0</th>\n",
              "      <td>1.0</td>\n",
              "      <td>Phoenix Suns*</td>\n",
              "      <td>Western</td>\n",
              "      <td>2004-05</td>\n",
              "      <td>82.0</td>\n",
              "      <td>241.2</td>\n",
              "      <td>40.9</td>\n",
              "      <td>85.6</td>\n",
              "      <td>0.477</td>\n",
              "      <td>9.7</td>\n",
              "      <td>...</td>\n",
              "      <td>NaN</td>\n",
              "      <td>NaN</td>\n",
              "      <td>NaN</td>\n",
              "      <td>NaN</td>\n",
              "      <td>NaN</td>\n",
              "      <td>NaN</td>\n",
              "      <td>NaN</td>\n",
              "      <td>NaN</td>\n",
              "      <td>NaN</td>\n",
              "      <td>NaN</td>\n",
              "    </tr>\n",
              "    <tr>\n",
              "      <th>1</th>\n",
              "      <td>2.0</td>\n",
              "      <td>Sacramento Kings*</td>\n",
              "      <td>Western</td>\n",
              "      <td>2004-05</td>\n",
              "      <td>82.0</td>\n",
              "      <td>242.1</td>\n",
              "      <td>39.1</td>\n",
              "      <td>85.1</td>\n",
              "      <td>0.459</td>\n",
              "      <td>6.4</td>\n",
              "      <td>...</td>\n",
              "      <td>NaN</td>\n",
              "      <td>NaN</td>\n",
              "      <td>NaN</td>\n",
              "      <td>NaN</td>\n",
              "      <td>NaN</td>\n",
              "      <td>NaN</td>\n",
              "      <td>NaN</td>\n",
              "      <td>NaN</td>\n",
              "      <td>NaN</td>\n",
              "      <td>NaN</td>\n",
              "    </tr>\n",
              "    <tr>\n",
              "      <th>2</th>\n",
              "      <td>3.0</td>\n",
              "      <td>Dallas Mavericks*</td>\n",
              "      <td>Western</td>\n",
              "      <td>2004-05</td>\n",
              "      <td>82.0</td>\n",
              "      <td>240.6</td>\n",
              "      <td>37.3</td>\n",
              "      <td>81.6</td>\n",
              "      <td>0.457</td>\n",
              "      <td>5.6</td>\n",
              "      <td>...</td>\n",
              "      <td>NaN</td>\n",
              "      <td>NaN</td>\n",
              "      <td>NaN</td>\n",
              "      <td>NaN</td>\n",
              "      <td>NaN</td>\n",
              "      <td>NaN</td>\n",
              "      <td>NaN</td>\n",
              "      <td>NaN</td>\n",
              "      <td>NaN</td>\n",
              "      <td>NaN</td>\n",
              "    </tr>\n",
              "    <tr>\n",
              "      <th>3</th>\n",
              "      <td>4.0</td>\n",
              "      <td>Miami Heat*</td>\n",
              "      <td>Eastern</td>\n",
              "      <td>2004-05</td>\n",
              "      <td>82.0</td>\n",
              "      <td>243.7</td>\n",
              "      <td>37.8</td>\n",
              "      <td>77.7</td>\n",
              "      <td>0.486</td>\n",
              "      <td>5.8</td>\n",
              "      <td>...</td>\n",
              "      <td>NaN</td>\n",
              "      <td>NaN</td>\n",
              "      <td>NaN</td>\n",
              "      <td>NaN</td>\n",
              "      <td>NaN</td>\n",
              "      <td>NaN</td>\n",
              "      <td>NaN</td>\n",
              "      <td>NaN</td>\n",
              "      <td>NaN</td>\n",
              "      <td>NaN</td>\n",
              "    </tr>\n",
              "    <tr>\n",
              "      <th>4</th>\n",
              "      <td>5.0</td>\n",
              "      <td>Boston Celtics*</td>\n",
              "      <td>Eastern</td>\n",
              "      <td>2004-05</td>\n",
              "      <td>82.0</td>\n",
              "      <td>242.4</td>\n",
              "      <td>37.1</td>\n",
              "      <td>79.4</td>\n",
              "      <td>0.468</td>\n",
              "      <td>5.3</td>\n",
              "      <td>...</td>\n",
              "      <td>NaN</td>\n",
              "      <td>NaN</td>\n",
              "      <td>NaN</td>\n",
              "      <td>NaN</td>\n",
              "      <td>NaN</td>\n",
              "      <td>NaN</td>\n",
              "      <td>NaN</td>\n",
              "      <td>NaN</td>\n",
              "      <td>NaN</td>\n",
              "      <td>NaN</td>\n",
              "    </tr>\n",
              "  </tbody>\n",
              "</table>\n",
              "<p>5 rows × 49 columns</p>\n",
              "</div>\n",
              "      <button class=\"colab-df-convert\" onclick=\"convertToInteractive('df-8a2c3fc0-a74d-45f4-bafb-59bb656a8ca1')\"\n",
              "              title=\"Convert this dataframe to an interactive table.\"\n",
              "              style=\"display:none;\">\n",
              "        \n",
              "  <svg xmlns=\"http://www.w3.org/2000/svg\" height=\"24px\"viewBox=\"0 0 24 24\"\n",
              "       width=\"24px\">\n",
              "    <path d=\"M0 0h24v24H0V0z\" fill=\"none\"/>\n",
              "    <path d=\"M18.56 5.44l.94 2.06.94-2.06 2.06-.94-2.06-.94-.94-2.06-.94 2.06-2.06.94zm-11 1L8.5 8.5l.94-2.06 2.06-.94-2.06-.94L8.5 2.5l-.94 2.06-2.06.94zm10 10l.94 2.06.94-2.06 2.06-.94-2.06-.94-.94-2.06-.94 2.06-2.06.94z\"/><path d=\"M17.41 7.96l-1.37-1.37c-.4-.4-.92-.59-1.43-.59-.52 0-1.04.2-1.43.59L10.3 9.45l-7.72 7.72c-.78.78-.78 2.05 0 2.83L4 21.41c.39.39.9.59 1.41.59.51 0 1.02-.2 1.41-.59l7.78-7.78 2.81-2.81c.8-.78.8-2.07 0-2.86zM5.41 20L4 18.59l7.72-7.72 1.47 1.35L5.41 20z\"/>\n",
              "  </svg>\n",
              "      </button>\n",
              "      \n",
              "  <style>\n",
              "    .colab-df-container {\n",
              "      display:flex;\n",
              "      flex-wrap:wrap;\n",
              "      gap: 12px;\n",
              "    }\n",
              "\n",
              "    .colab-df-convert {\n",
              "      background-color: #E8F0FE;\n",
              "      border: none;\n",
              "      border-radius: 50%;\n",
              "      cursor: pointer;\n",
              "      display: none;\n",
              "      fill: #1967D2;\n",
              "      height: 32px;\n",
              "      padding: 0 0 0 0;\n",
              "      width: 32px;\n",
              "    }\n",
              "\n",
              "    .colab-df-convert:hover {\n",
              "      background-color: #E2EBFA;\n",
              "      box-shadow: 0px 1px 2px rgba(60, 64, 67, 0.3), 0px 1px 3px 1px rgba(60, 64, 67, 0.15);\n",
              "      fill: #174EA6;\n",
              "    }\n",
              "\n",
              "    [theme=dark] .colab-df-convert {\n",
              "      background-color: #3B4455;\n",
              "      fill: #D2E3FC;\n",
              "    }\n",
              "\n",
              "    [theme=dark] .colab-df-convert:hover {\n",
              "      background-color: #434B5C;\n",
              "      box-shadow: 0px 1px 3px 1px rgba(0, 0, 0, 0.15);\n",
              "      filter: drop-shadow(0px 1px 2px rgba(0, 0, 0, 0.3));\n",
              "      fill: #FFFFFF;\n",
              "    }\n",
              "  </style>\n",
              "\n",
              "      <script>\n",
              "        const buttonEl =\n",
              "          document.querySelector('#df-8a2c3fc0-a74d-45f4-bafb-59bb656a8ca1 button.colab-df-convert');\n",
              "        buttonEl.style.display =\n",
              "          google.colab.kernel.accessAllowed ? 'block' : 'none';\n",
              "\n",
              "        async function convertToInteractive(key) {\n",
              "          const element = document.querySelector('#df-8a2c3fc0-a74d-45f4-bafb-59bb656a8ca1');\n",
              "          const dataTable =\n",
              "            await google.colab.kernel.invokeFunction('convertToInteractive',\n",
              "                                                     [key], {});\n",
              "          if (!dataTable) return;\n",
              "\n",
              "          const docLinkHtml = 'Like what you see? Visit the ' +\n",
              "            '<a target=\"_blank\" href=https://colab.research.google.com/notebooks/data_table.ipynb>data table notebook</a>'\n",
              "            + ' to learn more about interactive tables.';\n",
              "          element.innerHTML = '';\n",
              "          dataTable['output_type'] = 'display_data';\n",
              "          await google.colab.output.renderOutput(dataTable, element);\n",
              "          const docLink = document.createElement('div');\n",
              "          docLink.innerHTML = docLinkHtml;\n",
              "          element.appendChild(docLink);\n",
              "        }\n",
              "      </script>\n",
              "    </div>\n",
              "  </div>\n",
              "  "
            ]
          },
          "metadata": {},
          "execution_count": 4
        }
      ]
    },
    {
      "cell_type": "markdown",
      "source": [
        "- Tell us what groups you want to compare in the dataset\n",
        "  - **G1** (PTS | Conference = Western) vs. **G2** (PTS | Conference = Eastern)"
      ],
      "metadata": {
        "id": "KVfcheH7dQYd"
      }
    },
    {
      "cell_type": "markdown",
      "source": [
        "- Print first 5 records of each group, respectively.  "
      ],
      "metadata": {
        "id": "QFEp_Hycdhc5"
      }
    },
    {
      "cell_type": "code",
      "source": [
        "## First 5 records of G1 (male)\n",
        "(df[df['Conference'] == 'Western']['PTS']).head(5)"
      ],
      "metadata": {
        "colab": {
          "base_uri": "https://localhost:8080/"
        },
        "id": "FfGwEdTRdlo8",
        "outputId": "45a0f1c6-cc6c-43a5-8357-2b8811ed50cb"
      },
      "execution_count": 5,
      "outputs": [
        {
          "output_type": "execute_result",
          "data": {
            "text/plain": [
              "0     110.4\n",
              "1     103.7\n",
              "2     102.5\n",
              "7      99.5\n",
              "10     98.9\n",
              "Name: PTS, dtype: float64"
            ]
          },
          "metadata": {},
          "execution_count": 5
        }
      ]
    },
    {
      "cell_type": "code",
      "source": [
        "## First 5 records of G2 (female)\n",
        "(df[df['Conference'] == 'Eastern']['PTS']).head(5)"
      ],
      "metadata": {
        "colab": {
          "base_uri": "https://localhost:8080/"
        },
        "id": "VwohagM6d1oT",
        "outputId": "fc1fc2f1-1c72-4d9c-be4e-7a00d14ab88f"
      },
      "execution_count": 6,
      "outputs": [
        {
          "output_type": "execute_result",
          "data": {
            "text/plain": [
              "3    101.5\n",
              "4    101.3\n",
              "5    100.5\n",
              "6     99.7\n",
              "8     99.5\n",
              "Name: PTS, dtype: float64"
            ]
          },
          "metadata": {},
          "execution_count": 6
        }
      ]
    },
    {
      "cell_type": "code",
      "source": [
        "print('conditional (min, max, median, mean, std) of PTS | Conference')\n",
        "print(df.groupby('Conference')['PTS'].agg(['min', 'max', 'median', 'mean', 'std']))"
      ],
      "metadata": {
        "colab": {
          "base_uri": "https://localhost:8080/"
        },
        "id": "_ccQOt4uiBtC",
        "outputId": "44545b1f-ee1f-49a7-c408-7454f60fc9ff"
      },
      "execution_count": 8,
      "outputs": [
        {
          "output_type": "stream",
          "name": "stdout",
          "text": [
            "conditional (min, max, median, mean, std) of PTS | Conference\n",
            "             min    max  median        mean       std\n",
            "Conference                                           \n",
            "Eastern     87.0  120.1  100.10  101.476296  6.462344\n",
            "Western     88.4  117.8  103.35  103.902222  6.674475\n"
          ]
        }
      ]
    },
    {
      "cell_type": "code",
      "source": [
        "import matplotlib.pyplot as plt\n",
        "import seaborn as sns\n",
        "plt.rcParams['figure.figsize'] = [10, 5]\n",
        "\n",
        "sns.set()"
      ],
      "metadata": {
        "id": "RJdDYl3simKA"
      },
      "execution_count": 9,
      "outputs": []
    },
    {
      "cell_type": "code",
      "source": [
        "## Any other data description and visualization you want to add.\n"
      ],
      "metadata": {
        "id": "oLT-35HDiodu"
      },
      "execution_count": 27,
      "outputs": []
    },
    {
      "cell_type": "code",
      "source": [
        "## Stripplot\n",
        "\n",
        "sns.stripplot(data=df, x=\"PTS\", y=\"Conference\")\n",
        "plt.show()"
      ],
      "metadata": {
        "colab": {
          "base_uri": "https://localhost:8080/",
          "height": 339
        },
        "id": "GYbp_-zqjRsJ",
        "outputId": "5b445177-726f-445e-b7d1-0f1ec02562ba"
      },
      "execution_count": 28,
      "outputs": [
        {
          "output_type": "display_data",
          "data": {
            "text/plain": [
              "<Figure size 720x360 with 1 Axes>"
            ],
            "image/png": "[encoded data removed]"
          },
          "metadata": {}
        }
      ]
    },
    {
      "cell_type": "code",
      "source": [
        "## Violinplot\n",
        "\n",
        "sns.violinplot(data=df, x=\"PTS\", y=\"Conference\")\n",
        "plt.show()"
      ],
      "metadata": {
        "colab": {
          "base_uri": "https://localhost:8080/",
          "height": 339
        },
        "id": "EZ90MniEjiE5",
        "outputId": "4c35957b-9eb6-4064-960f-eea1b75d952a"
      },
      "execution_count": 29,
      "outputs": [
        {
          "output_type": "display_data",
          "data": {
            "text/plain": [
              "<Figure size 720x360 with 1 Axes>"
            ],
            "image/png": "[encoded data removed]"
          },
          "metadata": {}
        }
      ]
    }
  ]
}